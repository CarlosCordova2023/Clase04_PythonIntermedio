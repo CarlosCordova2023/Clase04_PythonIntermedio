{
  "nbformat": 4,
  "nbformat_minor": 0,
  "metadata": {
    "colab": {
      "provenance": [],
      "authorship_tag": "ABX9TyM6AsIIXZvGCBA2Cx6dIKHL",
      "include_colab_link": true
    },
    "kernelspec": {
      "name": "python3",
      "display_name": "Python 3"
    },
    "language_info": {
      "name": "python"
    }
  },
  "cells": [
    {
      "cell_type": "markdown",
      "metadata": {
        "id": "view-in-github",
        "colab_type": "text"
      },
      "source": [
        "<a href=\"https://colab.research.google.com/github/CarlosCordova2023/Clase04_PythonIntermedio/blob/main/Clase04_PythonIntermedio.ipynb\" target=\"_parent\"><img src=\"https://colab.research.google.com/assets/colab-badge.svg\" alt=\"Open In Colab\"/></a>"
      ]
    },
    {
      "cell_type": "code",
      "execution_count": null,
      "metadata": {
        "colab": {
          "base_uri": "https://localhost:8080/"
        },
        "id": "Gt2URhyfFr3a",
        "outputId": "6fdf1482-d2a2-4ed8-e9ec-6c0e39c1fc90"
      },
      "outputs": [
        {
          "output_type": "stream",
          "name": "stdout",
          "text": [
            "[11 12 13 14 15]\n",
            "[ 2  4  6  8 10]\n"
          ]
        }
      ],
      "source": [
        "import numpy as np\n",
        "\n",
        "# Creación de un array\n",
        "arr = np.array([1, 2, 3, 4, 5])\n",
        "\n",
        "# Suma y multiplicación escalar\n",
        "arr_sum = arr + 10\n",
        "arr_mul = arr * 2\n",
        "\n",
        "print(arr_sum)  # [11 12 13 14 15]\n",
        "print(arr_mul)  # [ 2  4  6  8 10]\n"
      ]
    },
    {
      "cell_type": "code",
      "source": [
        "import pandas as pd\n",
        "\n",
        "# Crear un DataFrame\n",
        "data = {\n",
        "    'Región': ['Metropolitana', 'Valparaíso', 'Biobío'],\n",
        "    'Consumo_Energía': [950, 1200, 850]\n",
        "}\n",
        "df = pd.DataFrame(data)\n",
        "serie_consumo = df['Consumo_Energía']\n",
        "\n",
        "# Mostrar los primeros registros de la serie.\n",
        "print(serie_consumo)\n"
      ],
      "metadata": {
        "colab": {
          "base_uri": "https://localhost:8080/"
        },
        "id": "05nxsT7gJOFc",
        "outputId": "72e71891-7077-4586-da3c-6e113098ab60"
      },
      "execution_count": null,
      "outputs": [
        {
          "output_type": "stream",
          "name": "stdout",
          "text": [
            "0     950\n",
            "1    1200\n",
            "2     850\n",
            "Name: Consumo_Energía, dtype: int64\n"
          ]
        }
      ]
    },
    {
      "cell_type": "code",
      "source": [
        "import pandas as pd\n",
        "\n",
        "# Crear un DataFrame\n",
        "data = {\n",
        "    'Región': ['Metropolitana', 'Valparaíso', 'Biobío'],\n",
        "    'Consumo_Energía': [950, 1200, 850]\n",
        "}\n",
        "df = pd.DataFrame(data)\n",
        "\n",
        "# Mostrar los primeros registros del DataFrame\n",
        "print(df.head())\n"
      ],
      "metadata": {
        "colab": {
          "base_uri": "https://localhost:8080/"
        },
        "id": "YB4zWWkjHjHg",
        "outputId": "8cf12388-9553-43ab-ed77-1730e61db40b"
      },
      "execution_count": null,
      "outputs": [
        {
          "output_type": "stream",
          "name": "stdout",
          "text": [
            "          Región  Consumo_Energía\n",
            "0  Metropolitana              950\n",
            "1     Valparaíso             1200\n",
            "2         Biobío              850\n"
          ]
        }
      ]
    },
    {
      "cell_type": "code",
      "source": [],
      "metadata": {
        "id": "nLrxrvQDJNZc"
      },
      "execution_count": null,
      "outputs": []
    },
    {
      "cell_type": "code",
      "source": [
        "import math\n",
        "\n",
        "# Calcular la raíz cuadrada y el seno de un número\n",
        "raiz_cuadrada = math.sqrt(16)\n",
        "seno_angulo = math.sin(math.pi / 2)\n",
        "\n",
        "print(raiz_cuadrada)  # 4.0\n",
        "print(seno_angulo)    # 1.0\n"
      ],
      "metadata": {
        "colab": {
          "base_uri": "https://localhost:8080/"
        },
        "id": "5MhLn_sOIy4M",
        "outputId": "6ccf8c5a-4c25-46e7-e4ec-5219402f37e6"
      },
      "execution_count": null,
      "outputs": [
        {
          "output_type": "stream",
          "name": "stdout",
          "text": [
            "4.0\n",
            "1.0\n"
          ]
        }
      ]
    },
    {
      "cell_type": "code",
      "source": [
        "import numpy as np\n",
        "\n",
        "# Consumo de energía en GWh para 3 regiones (filas) durante 6 meses (columnas)\n",
        "consumo = np.array([[950, 980, 960, 940, 970, 960],  # Región Metropolitana\n",
        "                    [1200, 1230, 1210, 1190, 1220, 1210],  # Valparaíso\n",
        "                    [850, 870, 860, 840, 860, 850]])  # Biobío\n",
        "\n",
        "# Calcular el promedio mensual\n",
        "promedio_mensual = np.mean(consumo, axis=1)\n",
        "print(\"Promedio de consumo por región:\", promedio_mensual)\n"
      ],
      "metadata": {
        "colab": {
          "base_uri": "https://localhost:8080/"
        },
        "id": "cyl_XtCVJ3al",
        "outputId": "edf8ed0e-7554-43b7-996a-328b1393be25"
      },
      "execution_count": null,
      "outputs": [
        {
          "output_type": "stream",
          "name": "stdout",
          "text": [
            "Promedio de consumo por región: [ 960. 1210.  855.]\n"
          ]
        }
      ]
    },
    {
      "cell_type": "code",
      "source": [
        "import pandas as pd\n",
        "\n",
        "# Crear un DataFrame con datos de producción de energía\n",
        "data = {\n",
        "    'Mes': ['Enero', 'Febrero', 'Marzo', 'Abril'],\n",
        "    'Solar': [900, 950, 1100, 1050],\n",
        "    'Eólica': [800, 870, 950, 1000],\n",
        "    'Hidráulica': [1200, 1300, 1250, 1350]\n",
        "}\n",
        "df = pd.DataFrame(data)\n",
        "\n",
        "# Filtrar registros con producción hidráulica mayor a 1000 GWh\n",
        "filtrado = df[df['Hidráulica'] > 1000]\n",
        "print(filtrado)\n"
      ],
      "metadata": {
        "colab": {
          "base_uri": "https://localhost:8080/"
        },
        "id": "CC9crBAuLPiX",
        "outputId": "a3dd5fe4-8645-426a-ec49-5e74aa4e8be9"
      },
      "execution_count": null,
      "outputs": [
        {
          "output_type": "stream",
          "name": "stdout",
          "text": [
            "       Mes  Solar  Eólica  Hidráulica\n",
            "0    Enero    900     800        1200\n",
            "1  Febrero    950     870        1300\n",
            "2    Marzo   1100     950        1250\n",
            "3    Abril   1050    1000        1350\n"
          ]
        }
      ]
    },
    {
      "cell_type": "code",
      "source": [
        "import math\n",
        "\n",
        "# Definir el radio\n",
        "radio = 5\n",
        "\n",
        "# Calcular el área del círculo\n",
        "area = math.pi * (radio ** 2)\n",
        "print(f\"El área del círculo es: {area:.2f}\")\n"
      ],
      "metadata": {
        "colab": {
          "base_uri": "https://localhost:8080/"
        },
        "id": "ZODSI2zeMeEL",
        "outputId": "68468948-cdf7-4d31-8454-eef7ca047891"
      },
      "execution_count": null,
      "outputs": [
        {
          "output_type": "stream",
          "name": "stdout",
          "text": [
            "El área del círculo es: 78.54\n"
          ]
        }
      ]
    },
    {
      "cell_type": "code",
      "source": [
        "import numpy as np\n",
        "\n",
        "# Crear un arreglo de 10 números\n",
        "arreglo = np.array([1, 2, 3, 4, 5, 6, 7, 8, 9, 10])\n",
        "\n",
        "# Calcular la suma de los elementos\n",
        "suma = np.sum(arreglo)\n",
        "print(f\"Suma de los elementos: {suma}\")\n",
        "\n",
        "# Calcular el promedio de los elementos\n",
        "promedio = np.mean(arreglo)\n",
        "print(f\"Promedio de los elementos: {promedio}\")"
      ],
      "metadata": {
        "colab": {
          "base_uri": "https://localhost:8080/"
        },
        "id": "r_zmPOQ8NBVf",
        "outputId": "2c997c48-c4ef-4ccb-d34a-3d83178e4ebc"
      },
      "execution_count": null,
      "outputs": [
        {
          "output_type": "stream",
          "name": "stdout",
          "text": [
            "Suma de los elementos: 55\n",
            "Promedio de los elementos: 5.5\n"
          ]
        }
      ]
    },
    {
      "cell_type": "code",
      "source": [
        "import pandas as pd\n",
        "\n",
        "# Crear un DataFrame con información de ventas\n",
        "datos_ventas = {\n",
        "    'Producto': ['Producto A', 'Producto B', 'Producto C'],\n",
        "    'Cantidad Vendida': [10, 20, 15],\n",
        "    'Precio': [100, 150, 200]\n",
        "}\n",
        "\n",
        "df_ventas = pd.DataFrame(datos_ventas)\n",
        "\n",
        "# Calcular el total de ingresos\n",
        "df_ventas['Ingresos'] = df_ventas['Cantidad Vendida'] * df_ventas['Precio']\n",
        "total_ingresos = df_ventas['Ingresos'].sum()\n",
        "print(f\"Total de ingresos: {total_ingresos}\")\n"
      ],
      "metadata": {
        "colab": {
          "base_uri": "https://localhost:8080/"
        },
        "id": "7PcBKB1rNJNX",
        "outputId": "a90e78f5-f94e-499e-dc71-205850448cb6"
      },
      "execution_count": null,
      "outputs": [
        {
          "output_type": "stream",
          "name": "stdout",
          "text": [
            "Total de ingresos: 7000\n"
          ]
        }
      ]
    },
    {
      "cell_type": "code",
      "source": [
        "import math\n",
        "\n",
        "# Número para el cálculo\n",
        "numero = 16\n",
        "\n",
        "# Calcular la raíz cuadrada\n",
        "raiz_cuadrada = math.sqrt(numero)\n",
        "print(f\"Raíz cuadrada de {numero}: {raiz_cuadrada}\")\n",
        "\n",
        "# Calcular el logaritmo natural\n",
        "logaritmo_natural = math.log(numero)\n",
        "print(f\"Logaritmo natural de {numero}: {logaritmo_natural}\")\n"
      ],
      "metadata": {
        "colab": {
          "base_uri": "https://localhost:8080/"
        },
        "id": "GbTVnSw-NO5A",
        "outputId": "5c900609-a48f-476f-f7ed-40ffc9a516f5"
      },
      "execution_count": null,
      "outputs": [
        {
          "output_type": "stream",
          "name": "stdout",
          "text": [
            "Raíz cuadrada de 16: 4.0\n",
            "Logaritmo natural de 16: 2.772588722239781\n"
          ]
        }
      ]
    },
    {
      "cell_type": "code",
      "source": [
        "import numpy as np\n",
        "\n",
        "# Datos de consumo en GWh durante 12 meses para 3 tipos de energía\n",
        "consumo = np.array([\n",
        "    [850, 900, 880, 870, 860, 840, 850, 830, 870, 880, 860, 850],  # Solar\n",
        "    [750, 780, 770, 760, 790, 740, 720, 750, 780, 760, 770, 760],  # Eólica\n",
        "    [1200, 1250, 1220, 1210, 1180, 1170, 1190, 1150, 1210, 1220, 1200, 1210]  # Hidráulica\n",
        "])\n",
        "\n",
        "# Promedio de consumo mensual por tipo de energía\n",
        "promedio_consumo = np.mean(consumo, axis=1)\n",
        "print(\"Promedio mensual por tipo de energía:\", promedio_consumo)\n",
        "\n",
        "# Desviación estándar para evaluar la variabilidad del consumo\n",
        "desviacion_consumo = np.std(consumo, axis=1)\n",
        "print(\"Desviación estándar por tipo de energía:\", desviacion_consumo)\n"
      ],
      "metadata": {
        "colab": {
          "base_uri": "https://localhost:8080/"
        },
        "id": "dmJk4G6LPz1c",
        "outputId": "b955d802-ea87-45f5-e291-736eac831cdf"
      },
      "execution_count": null,
      "outputs": [
        {
          "output_type": "stream",
          "name": "stdout",
          "text": [
            "Promedio mensual por tipo de energía: [ 861.66666667  760.83333333 1200.83333333]\n",
            "Desviación estándar por tipo de energía: [18.63389981 18.46543317 24.98610725]\n"
          ]
        }
      ]
    },
    {
      "cell_type": "code",
      "source": [
        "i\n"
      ],
      "metadata": {
        "colab": {
          "base_uri": "https://localhost:8080/",
          "height": 373
        },
        "id": "qjO1CegCRgKd",
        "outputId": "6a20edbf-32f8-47a6-bc22-2f7c68c0cb4c"
      },
      "execution_count": null,
      "outputs": [
        {
          "output_type": "error",
          "ename": "FileNotFoundError",
          "evalue": "[Errno 2] No such file or directory: 'produccion_energia.xlsx'",
          "traceback": [
            "\u001b[0;31m---------------------------------------------------------------------------\u001b[0m",
            "\u001b[0;31mFileNotFoundError\u001b[0m                         Traceback (most recent call last)",
            "\u001b[0;32m<ipython-input-15-a97f65269203>\u001b[0m in \u001b[0;36m<cell line: 4>\u001b[0;34m()\u001b[0m\n\u001b[1;32m      2\u001b[0m \u001b[0;34m\u001b[0m\u001b[0m\n\u001b[1;32m      3\u001b[0m \u001b[0;31m# Cargar datos desde un archivo de Excel\u001b[0m\u001b[0;34m\u001b[0m\u001b[0;34m\u001b[0m\u001b[0m\n\u001b[0;32m----> 4\u001b[0;31m \u001b[0mdf\u001b[0m \u001b[0;34m=\u001b[0m \u001b[0mpd\u001b[0m\u001b[0;34m.\u001b[0m\u001b[0mread_excel\u001b[0m\u001b[0;34m(\u001b[0m\u001b[0;34m\"produccion_energia.xlsx\"\u001b[0m\u001b[0;34m)\u001b[0m\u001b[0;34m\u001b[0m\u001b[0;34m\u001b[0m\u001b[0m\n\u001b[0m\u001b[1;32m      5\u001b[0m \u001b[0;34m\u001b[0m\u001b[0m\n\u001b[1;32m      6\u001b[0m \u001b[0;31m# Mostrar las primeras filas de los datos\u001b[0m\u001b[0;34m\u001b[0m\u001b[0;34m\u001b[0m\u001b[0m\n",
            "\u001b[0;32m/usr/local/lib/python3.10/dist-packages/pandas/io/excel/_base.py\u001b[0m in \u001b[0;36mread_excel\u001b[0;34m(io, sheet_name, header, names, index_col, usecols, dtype, engine, converters, true_values, false_values, skiprows, nrows, na_values, keep_default_na, na_filter, verbose, parse_dates, date_parser, date_format, thousands, decimal, comment, skipfooter, storage_options, dtype_backend, engine_kwargs)\u001b[0m\n\u001b[1;32m    493\u001b[0m     \u001b[0;32mif\u001b[0m \u001b[0;32mnot\u001b[0m \u001b[0misinstance\u001b[0m\u001b[0;34m(\u001b[0m\u001b[0mio\u001b[0m\u001b[0;34m,\u001b[0m \u001b[0mExcelFile\u001b[0m\u001b[0;34m)\u001b[0m\u001b[0;34m:\u001b[0m\u001b[0;34m\u001b[0m\u001b[0;34m\u001b[0m\u001b[0m\n\u001b[1;32m    494\u001b[0m         \u001b[0mshould_close\u001b[0m \u001b[0;34m=\u001b[0m \u001b[0;32mTrue\u001b[0m\u001b[0;34m\u001b[0m\u001b[0;34m\u001b[0m\u001b[0m\n\u001b[0;32m--> 495\u001b[0;31m         io = ExcelFile(\n\u001b[0m\u001b[1;32m    496\u001b[0m             \u001b[0mio\u001b[0m\u001b[0;34m,\u001b[0m\u001b[0;34m\u001b[0m\u001b[0;34m\u001b[0m\u001b[0m\n\u001b[1;32m    497\u001b[0m             \u001b[0mstorage_options\u001b[0m\u001b[0;34m=\u001b[0m\u001b[0mstorage_options\u001b[0m\u001b[0;34m,\u001b[0m\u001b[0;34m\u001b[0m\u001b[0;34m\u001b[0m\u001b[0m\n",
            "\u001b[0;32m/usr/local/lib/python3.10/dist-packages/pandas/io/excel/_base.py\u001b[0m in \u001b[0;36m__init__\u001b[0;34m(self, path_or_buffer, engine, storage_options, engine_kwargs)\u001b[0m\n\u001b[1;32m   1548\u001b[0m                 \u001b[0mext\u001b[0m \u001b[0;34m=\u001b[0m \u001b[0;34m\"xls\"\u001b[0m\u001b[0;34m\u001b[0m\u001b[0;34m\u001b[0m\u001b[0m\n\u001b[1;32m   1549\u001b[0m             \u001b[0;32melse\u001b[0m\u001b[0;34m:\u001b[0m\u001b[0;34m\u001b[0m\u001b[0;34m\u001b[0m\u001b[0m\n\u001b[0;32m-> 1550\u001b[0;31m                 ext = inspect_excel_format(\n\u001b[0m\u001b[1;32m   1551\u001b[0m                     \u001b[0mcontent_or_path\u001b[0m\u001b[0;34m=\u001b[0m\u001b[0mpath_or_buffer\u001b[0m\u001b[0;34m,\u001b[0m \u001b[0mstorage_options\u001b[0m\u001b[0;34m=\u001b[0m\u001b[0mstorage_options\u001b[0m\u001b[0;34m\u001b[0m\u001b[0;34m\u001b[0m\u001b[0m\n\u001b[1;32m   1552\u001b[0m                 )\n",
            "\u001b[0;32m/usr/local/lib/python3.10/dist-packages/pandas/io/excel/_base.py\u001b[0m in \u001b[0;36minspect_excel_format\u001b[0;34m(content_or_path, storage_options)\u001b[0m\n\u001b[1;32m   1400\u001b[0m         \u001b[0mcontent_or_path\u001b[0m \u001b[0;34m=\u001b[0m \u001b[0mBytesIO\u001b[0m\u001b[0;34m(\u001b[0m\u001b[0mcontent_or_path\u001b[0m\u001b[0;34m)\u001b[0m\u001b[0;34m\u001b[0m\u001b[0;34m\u001b[0m\u001b[0m\n\u001b[1;32m   1401\u001b[0m \u001b[0;34m\u001b[0m\u001b[0m\n\u001b[0;32m-> 1402\u001b[0;31m     with get_handle(\n\u001b[0m\u001b[1;32m   1403\u001b[0m         \u001b[0mcontent_or_path\u001b[0m\u001b[0;34m,\u001b[0m \u001b[0;34m\"rb\"\u001b[0m\u001b[0;34m,\u001b[0m \u001b[0mstorage_options\u001b[0m\u001b[0;34m=\u001b[0m\u001b[0mstorage_options\u001b[0m\u001b[0;34m,\u001b[0m \u001b[0mis_text\u001b[0m\u001b[0;34m=\u001b[0m\u001b[0;32mFalse\u001b[0m\u001b[0;34m\u001b[0m\u001b[0;34m\u001b[0m\u001b[0m\n\u001b[1;32m   1404\u001b[0m     ) as handle:\n",
            "\u001b[0;32m/usr/local/lib/python3.10/dist-packages/pandas/io/common.py\u001b[0m in \u001b[0;36mget_handle\u001b[0;34m(path_or_buf, mode, encoding, compression, memory_map, is_text, errors, storage_options)\u001b[0m\n\u001b[1;32m    880\u001b[0m         \u001b[0;32melse\u001b[0m\u001b[0;34m:\u001b[0m\u001b[0;34m\u001b[0m\u001b[0;34m\u001b[0m\u001b[0m\n\u001b[1;32m    881\u001b[0m             \u001b[0;31m# Binary mode\u001b[0m\u001b[0;34m\u001b[0m\u001b[0;34m\u001b[0m\u001b[0m\n\u001b[0;32m--> 882\u001b[0;31m             \u001b[0mhandle\u001b[0m \u001b[0;34m=\u001b[0m \u001b[0mopen\u001b[0m\u001b[0;34m(\u001b[0m\u001b[0mhandle\u001b[0m\u001b[0;34m,\u001b[0m \u001b[0mioargs\u001b[0m\u001b[0;34m.\u001b[0m\u001b[0mmode\u001b[0m\u001b[0;34m)\u001b[0m\u001b[0;34m\u001b[0m\u001b[0;34m\u001b[0m\u001b[0m\n\u001b[0m\u001b[1;32m    883\u001b[0m         \u001b[0mhandles\u001b[0m\u001b[0;34m.\u001b[0m\u001b[0mappend\u001b[0m\u001b[0;34m(\u001b[0m\u001b[0mhandle\u001b[0m\u001b[0;34m)\u001b[0m\u001b[0;34m\u001b[0m\u001b[0;34m\u001b[0m\u001b[0m\n\u001b[1;32m    884\u001b[0m \u001b[0;34m\u001b[0m\u001b[0m\n",
            "\u001b[0;31mFileNotFoundError\u001b[0m: [Errno 2] No such file or directory: 'produccion_energia.xlsx'"
          ]
        }
      ]
    },
    {
      "cell_type": "code",
      "source": [
        "import pandas as pd\n",
        "import numpy as np\n",
        "\n",
        "# Crear datos de ejemplo\n",
        "np.random.seed(0)  # Para reproducibilidad\n",
        "regiones = ['Metropolitana', 'Valparaíso', 'Biobío', 'Araucanía', 'Los Lagos']\n",
        "meses = ['Enero', 'Febrero', 'Marzo', 'Abril', 'Mayo', 'Junio', 'Julio', 'Agosto', 'Septiembre', 'Octubre', 'Noviembre', 'Diciembre']\n",
        "\n",
        "data = {\n",
        "    'Región': np.random.choice(regiones, 50),\n",
        "    'Mes': np.random.choice(meses, 50),\n",
        "    'Producción': np.random.randint(800, 1500, 50)  # Producción en GWh\n",
        "}\n",
        "\n",
        "df = pd.DataFrame(data)\n",
        "\n",
        "# Guardar el DataFrame en un archivo de Excel\n",
        "df.to_excel(\"produccion_energia.xlsx\", index=False)\n"
      ],
      "metadata": {
        "id": "qeLf0IEISQ7P"
      },
      "execution_count": null,
      "outputs": []
    },
    {
      "cell_type": "code",
      "source": [
        "import pandas as pd\n",
        "\n",
        "# Cargar datos desde un archivo de Excel\n",
        "df = pd.read_excel(\"produccion_energia.xlsx\")\n",
        "\n",
        "# Mostrar las primeras filas de los datos\n",
        "print(df.head())\n",
        "\n",
        "# Agrupar los datos por región y sumar la producción de energía\n",
        "produccion_por_region = df.groupby('Región')['Producción'].sum()\n",
        "print(\"Producción total por región:\\n\", produccion_por_region)\n",
        "\n",
        "# Estadísticas básicas (media, mediana, desviación estándar)\n",
        "estadisticas_region = df.groupby('Región')['Producción'].agg(['mean', 'median', 'std'])\n",
        "print(\"\\nEstadísticas de producción por región:\\n\", estadisticas_region)"
      ],
      "metadata": {
        "colab": {
          "base_uri": "https://localhost:8080/"
        },
        "id": "BJPjjCvfScny",
        "outputId": "ca569103-7b4a-4aa3-ca5d-e1c7f043e98e"
      },
      "execution_count": null,
      "outputs": [
        {
          "output_type": "stream",
          "name": "stdout",
          "text": [
            "          Región         Mes  Producción\n",
            "0      Los Lagos     Octubre        1410\n",
            "1  Metropolitana   Noviembre        1354\n",
            "2      Araucanía   Noviembre        1168\n",
            "3      Araucanía  Septiembre        1001\n",
            "4      Araucanía     Febrero        1183\n",
            "Producción total por región:\n",
            " Región\n",
            "Araucanía        12805\n",
            "Biobío            6925\n",
            "Los Lagos        10150\n",
            "Metropolitana    13863\n",
            "Valparaíso       11174\n",
            "Name: Producción, dtype: int64\n",
            "\n",
            "Estadísticas de producción por región:\n",
            "                       mean  median         std\n",
            "Región                                        \n",
            "Araucanía      1067.083333  1084.5  191.444014\n",
            "Biobío         1154.166667  1131.5  212.775390\n",
            "Los Lagos      1127.777778  1096.0  193.383542\n",
            "Metropolitana  1066.384615   948.0  246.387411\n",
            "Valparaíso     1117.400000  1091.0  179.696163\n"
          ]
        }
      ]
    },
    {
      "cell_type": "code",
      "source": [
        "import math\n",
        "\n",
        "# Radios de las plantas fotovoltaicas en metros\n",
        "radios_plantas = [50, 70, 100, 120]  # metros\n",
        "\n",
        "# Calcular el área de cada planta\n",
        "areas_plantas = [math.pi * (r ** 2) for r in radios_plantas]\n",
        "\n",
        "for i, area in enumerate(areas_plantas, 1):\n",
        "    print(f\"Área de la planta {i}: {area:.2f} m²\")\n"
      ],
      "metadata": {
        "colab": {
          "base_uri": "https://localhost:8080/"
        },
        "id": "A9uvdX8bUZ-l",
        "outputId": "871a739b-ead2-403b-b2e1-75893dcee719"
      },
      "execution_count": null,
      "outputs": [
        {
          "output_type": "stream",
          "name": "stdout",
          "text": [
            "Área de la planta 1: 7853.98 m²\n",
            "Área de la planta 2: 15393.80 m²\n",
            "Área de la planta 3: 31415.93 m²\n",
            "Área de la planta 4: 45238.93 m²\n"
          ]
        }
      ]
    },
    {
      "cell_type": "code",
      "source": [
        "import cmath\n",
        "\n",
        "# Impedancias complejas (resistencia + reactancia)\n",
        "impedancias = [complex(10, 5), complex(8, 12), complex(15, 9)]\n",
        "\n",
        "for i, z in enumerate(impedancias, 1):\n",
        "    magnitud = abs(z)\n",
        "    angulo = cmath.phase(z)  # ángulo en radianes\n",
        "    print(f\"Impedancia {i}: Magnitud = {magnitud:.2f}, Ángulo = {math.degrees(angulo):.2f}°\")\n"
      ],
      "metadata": {
        "colab": {
          "base_uri": "https://localhost:8080/"
        },
        "id": "gAhkiSliUkL9",
        "outputId": "c56ce3c1-3815-4994-fe62-e9cd965fe079"
      },
      "execution_count": null,
      "outputs": [
        {
          "output_type": "stream",
          "name": "stdout",
          "text": [
            "Impedancia 1: Magnitud = 11.18, Ángulo = 26.57°\n",
            "Impedancia 2: Magnitud = 14.42, Ángulo = 56.31°\n",
            "Impedancia 3: Magnitud = 17.49, Ángulo = 30.96°\n"
          ]
        }
      ]
    },
    {
      "cell_type": "code",
      "source": [
        "import pandas as pd\n",
        "import numpy as np\n",
        "\n",
        "# Datos de consumo mensual (en GWh) para los últimos 12 meses\n",
        "data = {'Mes': ['Enero', 'Febrero', 'Marzo', 'Abril', 'Mayo', 'Junio', 'Julio', 'Agosto', 'Septiembre', 'Octubre', 'Noviembre', 'Diciembre'],\n",
        "        'Consumo_Solar': [900, 920, 950, 970, 1000, 980, 950, 930, 910, 890, 920, 940]}\n",
        "\n",
        "# Crear un DataFrame\n",
        "df = pd.DataFrame(data)\n",
        "\n",
        "# Calcular promedio móvil de 3 meses para suavizar la serie\n",
        "df['Promedio_Móvil'] = df['Consumo_Solar'].rolling(window=3).mean()\n",
        "\n",
        "print(df)\n"
      ],
      "metadata": {
        "colab": {
          "base_uri": "https://localhost:8080/"
        },
        "id": "hdldDsWkUpjV",
        "outputId": "f2e9bacf-3ef9-4b67-97b9-8fa26b88a249"
      },
      "execution_count": null,
      "outputs": [
        {
          "output_type": "stream",
          "name": "stdout",
          "text": [
            "           Mes  Consumo_Solar  Promedio_Móvil\n",
            "0        Enero            900             NaN\n",
            "1      Febrero            920             NaN\n",
            "2        Marzo            950      923.333333\n",
            "3        Abril            970      946.666667\n",
            "4         Mayo           1000      973.333333\n",
            "5        Junio            980      983.333333\n",
            "6        Julio            950      976.666667\n",
            "7       Agosto            930      953.333333\n",
            "8   Septiembre            910      930.000000\n",
            "9      Octubre            890      910.000000\n",
            "10   Noviembre            920      906.666667\n",
            "11   Diciembre            940      916.666667\n"
          ]
        }
      ]
    },
    {
      "cell_type": "code",
      "source": [
        "import pandas as pd\n",
        "import numpy as np\n",
        "\n",
        "# Crear un DataFrame con datos de ejemplo\n",
        "data = {\n",
        "    'Valores': [10, 20, 30, 40, 50, 60, 70, 80, 90, 100]\n",
        "}\n",
        "df = pd.DataFrame(data)\n",
        "\n",
        "# Calcular la media\n",
        "media = df['Valores'].mean()\n",
        "print(\"Media:\", media)\n",
        "\n",
        "# Calcular la mediana\n",
        "mediana = df['Valores'].median()\n",
        "print(\"Mediana:\", mediana)\n",
        "\n",
        "# Calcular la desviación estándar\n",
        "desviacion_estandar = df['Valores'].std()\n",
        "print(\"Desviación Estándar:\", desviacion_estandar)\n"
      ],
      "metadata": {
        "id": "2jEfWKmeVqsJ",
        "outputId": "b5beeec5-4e50-43e8-8aa3-6e7cec2b2e38",
        "colab": {
          "base_uri": "https://localhost:8080/"
        }
      },
      "execution_count": 1,
      "outputs": [
        {
          "output_type": "stream",
          "name": "stdout",
          "text": [
            "Media: 55.0\n",
            "Mediana: 55.0\n",
            "Desviación Estándar: 30.276503540974915\n"
          ]
        }
      ]
    }
  ]
}